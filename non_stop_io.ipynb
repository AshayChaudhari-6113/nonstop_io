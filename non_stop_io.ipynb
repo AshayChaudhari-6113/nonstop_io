{
 "cells": [
  {
   "cell_type": "code",
   "execution_count": 1,
   "id": "5e7451db",
   "metadata": {},
   "outputs": [],
   "source": [
    "import requests\n",
    "from bs4 import BeautifulSoup\n",
    "import pandas as pd"
   ]
  },
  {
   "cell_type": "code",
   "execution_count": 2,
   "id": "73453937",
   "metadata": {},
   "outputs": [],
   "source": [
    "BASE_URL = 'https://edition.cnn.com/'"
   ]
  },
  {
   "cell_type": "code",
   "execution_count": 3,
   "id": "c99cdc74",
   "metadata": {},
   "outputs": [
    {
     "data": {
      "text/plain": [
       "{'World': 'https://edition.cnn.com/world',\n",
       " 'US Politics': 'https://edition.cnn.com/politics',\n",
       " 'Business': 'https://edition.cnn.com/business',\n",
       " 'Markets': 'https://edition.cnn.com/markets',\n",
       " 'Health': 'https://edition.cnn.com/health',\n",
       " 'Entertainment': 'https://edition.cnn.com/entertainment',\n",
       " 'Tech': 'https://edition.cnn.com/business/tech',\n",
       " 'Style': 'https://edition.cnn.com/style',\n",
       " 'Travel': 'https://edition.cnn.com/travel',\n",
       " 'Sports': 'https://edition.cnn.com/sport',\n",
       " 'Videos': 'https://edition.cnn.com/videos',\n",
       " 'Features': 'https://edition.cnn.com/specials',\n",
       " 'Weather': 'https://edition.cnn.com/weather',\n",
       " 'More': 'https://edition.cnn.com/more'}"
      ]
     },
     "execution_count": 3,
     "metadata": {},
     "output_type": "execute_result"
    }
   ],
   "source": [
    "\n",
    "# Function to scrape news articles and categories from CNN\n",
    "def scrape_categories(url):\n",
    "    response = requests.get(url)\n",
    "    soup = BeautifulSoup(response.text, 'html.parser')\n",
    "    \n",
    "    categories = {}\n",
    "    \n",
    "    # Example: Extract article text and category\n",
    "    for article in soup.find_all('a', class_='subnav__section-link'):\n",
    "\n",
    "        # Getting Category and its Page url\n",
    "        text = article.get_text().strip()\n",
    "        url = article.get(\"href\")\n",
    "        \n",
    "        categories[text] = url\n",
    "        \n",
    "    \n",
    "    return categories\n",
    "\n",
    "categories_urls = scrape_categories(BASE_URL)\n",
    "\n",
    "categories_urls"
   ]
  },
  {
   "cell_type": "code",
   "execution_count": 4,
   "id": "7c0031b3",
   "metadata": {},
   "outputs": [
    {
     "data": {
      "text/plain": [
       "{'World': 'https://edition.cnn.com/world',\n",
       " 'US Politics': 'https://edition.cnn.com/politics',\n",
       " 'Business': 'https://edition.cnn.com/business',\n",
       " 'Markets': 'https://edition.cnn.com/markets',\n",
       " 'Health': 'https://edition.cnn.com/health',\n",
       " 'Entertainment': 'https://edition.cnn.com/entertainment',\n",
       " 'Tech': 'https://edition.cnn.com/business/tech',\n",
       " 'Style': 'https://edition.cnn.com/style',\n",
       " 'Travel': 'https://edition.cnn.com/travel',\n",
       " 'Sports': 'https://edition.cnn.com/sport',\n",
       " 'Weather': 'https://edition.cnn.com/weather'}"
      ]
     },
     "execution_count": 4,
     "metadata": {},
     "output_type": "execute_result"
    }
   ],
   "source": [
    "try:\n",
    "  del categories_urls[\"Videos\"]\n",
    "  del categories_urls[\"Features\"]\n",
    "  del categories_urls[\"More\"]\n",
    "except Exception as e:\n",
    "  pass\n",
    "\n",
    "categories_urls"
   ]
  },
  {
   "cell_type": "code",
   "execution_count": 7,
   "id": "1b29c330",
   "metadata": {
    "scrolled": true
   },
   "outputs": [],
   "source": [
    "\n",
    "def extract_articles(categories_urls):\n",
    "    headlines = []\n",
    "    article_text = []\n",
    "    categories = []\n",
    "\n",
    "    for category, url in categories_urls.items():\n",
    "\n",
    "        response = requests.get(url)\n",
    "        soup = BeautifulSoup(response.text, 'html.parser')\n",
    "\n",
    "        articles = soup.find_all('a', {\"data-link-type\": \"article\"})\n",
    "        \n",
    "        for article in articles:\n",
    "            try:\n",
    "                article_url = BASE_URL + article.get(\"href\").strip(\"/\")\n",
    "\n",
    "                try:\n",
    "                    article_page = requests.get(article_url)\n",
    "                    crawler = BeautifulSoup(article_page.text, 'html.parser')\n",
    "\n",
    "                    headline = crawler.find('h1', class_='headline__text').get_text().strip()\n",
    "\n",
    "                    text_container = crawler.find('div', class_='article__content')\n",
    "                    paragraphs = text_container.find_all(\"p\", class_='paragraph')\n",
    "\n",
    "                    content = \"\"\n",
    "                    for para in paragraphs:\n",
    "                        content += \" \"+ para.get_text().strip()\n",
    "\n",
    "                    if headline:\n",
    "                        headlines.append(headline)\n",
    "                    else:\n",
    "                        headlines.append(\"\")\n",
    "                    if content:\n",
    "                        article_text.append(content)\n",
    "                    else:\n",
    "                        article_text.append(\"\")\n",
    "\n",
    "                    categories.append(category)\n",
    "\n",
    "                except Exception as e:\n",
    "                    continue\n",
    "            except Exception as e:\n",
    "                continue\n",
    "    \n",
    "    return headlines, article_text, categories\n",
    "\n",
    "headlines, article_text, categories = extract_articles(categories_urls)\n",
    "data = pd.DataFrame({'Headline': headlines, \"Content\": article_text, 'Category': categories})\n",
    "\n",
    "\n"
   ]
  },
  {
   "cell_type": "code",
   "execution_count": 8,
   "id": "80eb7917",
   "metadata": {},
   "outputs": [
    {
     "data": {
      "text/plain": [
       "(871, 3)"
      ]
     },
     "execution_count": 8,
     "metadata": {},
     "output_type": "execute_result"
    }
   ],
   "source": [
    "data.shape"
   ]
  },
  {
   "cell_type": "code",
   "execution_count": 9,
   "id": "fdf143b0",
   "metadata": {},
   "outputs": [
    {
     "data": {
      "text/html": [
       "<div>\n",
       "<style scoped>\n",
       "    .dataframe tbody tr th:only-of-type {\n",
       "        vertical-align: middle;\n",
       "    }\n",
       "\n",
       "    .dataframe tbody tr th {\n",
       "        vertical-align: top;\n",
       "    }\n",
       "\n",
       "    .dataframe thead th {\n",
       "        text-align: right;\n",
       "    }\n",
       "</style>\n",
       "<table border=\"1\" class=\"dataframe\">\n",
       "  <thead>\n",
       "    <tr style=\"text-align: right;\">\n",
       "      <th></th>\n",
       "      <th>Headline</th>\n",
       "      <th>Content</th>\n",
       "      <th>Category</th>\n",
       "    </tr>\n",
       "  </thead>\n",
       "  <tbody>\n",
       "    <tr>\n",
       "      <th>585</th>\n",
       "      <td>Han Kwang Song: North Korean striker scores in...</td>\n",
       "      <td>After more than three years of going missing ...</td>\n",
       "      <td>Sports</td>\n",
       "    </tr>\n",
       "    <tr>\n",
       "      <th>244</th>\n",
       "      <td>After more reports of illnesses from recalled ...</td>\n",
       "      <td>After more reports of illnesses potentially l...</td>\n",
       "      <td>Health</td>\n",
       "    </tr>\n",
       "    <tr>\n",
       "      <th>705</th>\n",
       "      <td>The driest place in North America has sprung t...</td>\n",
       "      <td>California’s Death Valley is the hottest plac...</td>\n",
       "      <td>Weather</td>\n",
       "    </tr>\n",
       "    <tr>\n",
       "      <th>673</th>\n",
       "      <td>2023 Atlantic Hurricane Season Fast Facts</td>\n",
       "      <td>Here is a look at the 2023 Atlantic hurricane...</td>\n",
       "      <td>Weather</td>\n",
       "    </tr>\n",
       "    <tr>\n",
       "      <th>701</th>\n",
       "      <td>Hurricane Otis’ explosive intensification is a...</td>\n",
       "      <td>The rapid intensification Hurricane Otis unde...</td>\n",
       "      <td>Weather</td>\n",
       "    </tr>\n",
       "    <tr>\n",
       "      <th>82</th>\n",
       "      <td>For hundreds of migrant children living in she...</td>\n",
       "      <td>Estefanía Rebellón knows the trauma that stem...</td>\n",
       "      <td>World</td>\n",
       "    </tr>\n",
       "    <tr>\n",
       "      <th>262</th>\n",
       "      <td>The most powerful rocket ever built just went ...</td>\n",
       "      <td>SpaceX’s gargantuan deep-space rocket system,...</td>\n",
       "      <td>Health</td>\n",
       "    </tr>\n",
       "    <tr>\n",
       "      <th>502</th>\n",
       "      <td>First-ever World of Frozen opens at Hong Kong ...</td>\n",
       "      <td>Elsa, Anna, Olaf and Sven have a new home on ...</td>\n",
       "      <td>Travel</td>\n",
       "    </tr>\n",
       "    <tr>\n",
       "      <th>604</th>\n",
       "      <td>Philadelphia Eagles win Super Bowl rematch, de...</td>\n",
       "      <td>The Philadelphia Eagles avenged their Super B...</td>\n",
       "      <td>Sports</td>\n",
       "    </tr>\n",
       "    <tr>\n",
       "      <th>632</th>\n",
       "      <td>Six bull sharks inadvertently made their home ...</td>\n",
       "      <td>For golfers, staying out of the water could b...</td>\n",
       "      <td>Sports</td>\n",
       "    </tr>\n",
       "  </tbody>\n",
       "</table>\n",
       "</div>"
      ],
      "text/plain": [
       "                                              Headline  \\\n",
       "585  Han Kwang Song: North Korean striker scores in...   \n",
       "244  After more reports of illnesses from recalled ...   \n",
       "705  The driest place in North America has sprung t...   \n",
       "673          2023 Atlantic Hurricane Season Fast Facts   \n",
       "701  Hurricane Otis’ explosive intensification is a...   \n",
       "82   For hundreds of migrant children living in she...   \n",
       "262  The most powerful rocket ever built just went ...   \n",
       "502  First-ever World of Frozen opens at Hong Kong ...   \n",
       "604  Philadelphia Eagles win Super Bowl rematch, de...   \n",
       "632  Six bull sharks inadvertently made their home ...   \n",
       "\n",
       "                                               Content Category  \n",
       "585   After more than three years of going missing ...   Sports  \n",
       "244   After more reports of illnesses potentially l...   Health  \n",
       "705   California’s Death Valley is the hottest plac...  Weather  \n",
       "673   Here is a look at the 2023 Atlantic hurricane...  Weather  \n",
       "701   The rapid intensification Hurricane Otis unde...  Weather  \n",
       "82    Estefanía Rebellón knows the trauma that stem...    World  \n",
       "262   SpaceX’s gargantuan deep-space rocket system,...   Health  \n",
       "502   Elsa, Anna, Olaf and Sven have a new home on ...   Travel  \n",
       "604   The Philadelphia Eagles avenged their Super B...   Sports  \n",
       "632   For golfers, staying out of the water could b...   Sports  "
      ]
     },
     "execution_count": 9,
     "metadata": {},
     "output_type": "execute_result"
    }
   ],
   "source": [
    "data.sample(10)"
   ]
  },
  {
   "cell_type": "code",
   "execution_count": 10,
   "id": "2982249c",
   "metadata": {},
   "outputs": [
    {
     "data": {
      "text/plain": [
       "Headline    0\n",
       "Content     0\n",
       "Category    0\n",
       "dtype: int64"
      ]
     },
     "execution_count": 10,
     "metadata": {},
     "output_type": "execute_result"
    }
   ],
   "source": [
    "data.isnull().sum()"
   ]
  },
  {
   "cell_type": "code",
   "execution_count": 11,
   "id": "2f34c69a",
   "metadata": {},
   "outputs": [
    {
     "data": {
      "text/plain": [
       "361"
      ]
     },
     "execution_count": 11,
     "metadata": {},
     "output_type": "execute_result"
    }
   ],
   "source": [
    "data.duplicated().sum()"
   ]
  },
  {
   "cell_type": "code",
   "execution_count": 12,
   "id": "52ad68a1",
   "metadata": {},
   "outputs": [
    {
     "data": {
      "text/plain": [
       "0"
      ]
     },
     "execution_count": 12,
     "metadata": {},
     "output_type": "execute_result"
    }
   ],
   "source": [
    "data = data.drop_duplicates()\n",
    "data.duplicated().sum()"
   ]
  },
  {
   "cell_type": "code",
   "execution_count": 58,
   "id": "6d2cb0ee",
   "metadata": {},
   "outputs": [
    {
     "data": {
      "text/plain": [
       "(510, 3)"
      ]
     },
     "execution_count": 58,
     "metadata": {},
     "output_type": "execute_result"
    }
   ],
   "source": [
    "data.shape"
   ]
  },
  {
   "cell_type": "code",
   "execution_count": 59,
   "id": "9f166475",
   "metadata": {},
   "outputs": [
    {
     "data": {
      "text/plain": [
       "Weather          104\n",
       "World             67\n",
       "Style             58\n",
       "Business          50\n",
       "US Politics       49\n",
       "Travel            44\n",
       "Sports            44\n",
       "Entertainment     40\n",
       "Health            31\n",
       "Tech              16\n",
       "Markets            7\n",
       "Name: Category, dtype: int64"
      ]
     },
     "execution_count": 59,
     "metadata": {},
     "output_type": "execute_result"
    }
   ],
   "source": [
    "data[\"Category\"].value_counts()"
   ]
  },
  {
   "cell_type": "code",
   "execution_count": 60,
   "id": "8eb792b9",
   "metadata": {},
   "outputs": [],
   "source": [
    "# Save the scraped data\n",
    "data.to_csv('cnn_data_with_content.csv', index=False)"
   ]
  },
  {
   "cell_type": "code",
   "execution_count": 61,
   "id": "41338f4b",
   "metadata": {},
   "outputs": [],
   "source": [
    "from sklearn.model_selection import train_test_split\n",
    "from sklearn.feature_extraction.text import CountVectorizer\n",
    "from sklearn.naive_bayes import MultinomialNB\n",
    "from sklearn.linear_model import LogisticRegression\n",
    "from sklearn.ensemble import RandomForestClassifier\n",
    "from sklearn.svm import LinearSVC\n",
    "from sklearn.metrics import accuracy_score, classification_report"
   ]
  },
  {
   "cell_type": "code",
   "execution_count": 62,
   "id": "41d64e55",
   "metadata": {
    "scrolled": true
   },
   "outputs": [
    {
     "data": {
      "text/html": [
       "<div>\n",
       "<style scoped>\n",
       "    .dataframe tbody tr th:only-of-type {\n",
       "        vertical-align: middle;\n",
       "    }\n",
       "\n",
       "    .dataframe tbody tr th {\n",
       "        vertical-align: top;\n",
       "    }\n",
       "\n",
       "    .dataframe thead th {\n",
       "        text-align: right;\n",
       "    }\n",
       "</style>\n",
       "<table border=\"1\" class=\"dataframe\">\n",
       "  <thead>\n",
       "    <tr style=\"text-align: right;\">\n",
       "      <th></th>\n",
       "      <th>Headline</th>\n",
       "      <th>Content</th>\n",
       "      <th>Category</th>\n",
       "    </tr>\n",
       "  </thead>\n",
       "  <tbody>\n",
       "    <tr>\n",
       "      <th>372</th>\n",
       "      <td>US government’s proposal to boost EV sales is ...</td>\n",
       "      <td>The US government is planning to change auto ...</td>\n",
       "      <td>Tech</td>\n",
       "    </tr>\n",
       "    <tr>\n",
       "      <th>449</th>\n",
       "      <td>A new docuseries follows Juul’s catastrophic c...</td>\n",
       "      <td>As Juul’s popularity began to surge in 2016, ...</td>\n",
       "      <td>Style</td>\n",
       "    </tr>\n",
       "    <tr>\n",
       "      <th>441</th>\n",
       "      <td>Mushrooms, snails and plant roots: The surpris...</td>\n",
       "      <td>Madder, cochineal, Mauveine; these words may ...</td>\n",
       "      <td>Style</td>\n",
       "    </tr>\n",
       "    <tr>\n",
       "      <th>45</th>\n",
       "      <td>Civilians caught in the crossfire as fighting ...</td>\n",
       "      <td>Renewed hostilities between the Myanmar milit...</td>\n",
       "      <td>World</td>\n",
       "    </tr>\n",
       "    <tr>\n",
       "      <th>190</th>\n",
       "      <td>Why aren’t more women leading US companies? Am...</td>\n",
       "      <td>Women have made huge strides in business, asc...</td>\n",
       "      <td>Business</td>\n",
       "    </tr>\n",
       "    <tr>\n",
       "      <th>427</th>\n",
       "      <td>Look of the week: Emily Ratajkowski and the ul...</td>\n",
       "      <td>In the not too distant past, the silhouette t...</td>\n",
       "      <td>Style</td>\n",
       "    </tr>\n",
       "    <tr>\n",
       "      <th>789</th>\n",
       "      <td>Hurricane Lee strengthens to Category 4 storm ...</td>\n",
       "      <td>Hurricane Lee has strengthened into a major C...</td>\n",
       "      <td>Weather</td>\n",
       "    </tr>\n",
       "    <tr>\n",
       "      <th>101</th>\n",
       "      <td>Takeaways from the Biden-Xi summit, where low ...</td>\n",
       "      <td>It happened, therefore it was a success. Pres...</td>\n",
       "      <td>US Politics</td>\n",
       "    </tr>\n",
       "    <tr>\n",
       "      <th>78</th>\n",
       "      <td>Meet the people who are making the world a bet...</td>\n",
       "      <td>The ideas can be simple: converting a vehicle...</td>\n",
       "      <td>World</td>\n",
       "    </tr>\n",
       "    <tr>\n",
       "      <th>107</th>\n",
       "      <td>Fact checking the 3rd GOP debate of the 2024 e...</td>\n",
       "      <td>Five of the Republican presidential candidate...</td>\n",
       "      <td>US Politics</td>\n",
       "    </tr>\n",
       "  </tbody>\n",
       "</table>\n",
       "</div>"
      ],
      "text/plain": [
       "                                              Headline  \\\n",
       "372  US government’s proposal to boost EV sales is ...   \n",
       "449  A new docuseries follows Juul’s catastrophic c...   \n",
       "441  Mushrooms, snails and plant roots: The surpris...   \n",
       "45   Civilians caught in the crossfire as fighting ...   \n",
       "190  Why aren’t more women leading US companies? Am...   \n",
       "427  Look of the week: Emily Ratajkowski and the ul...   \n",
       "789  Hurricane Lee strengthens to Category 4 storm ...   \n",
       "101  Takeaways from the Biden-Xi summit, where low ...   \n",
       "78   Meet the people who are making the world a bet...   \n",
       "107  Fact checking the 3rd GOP debate of the 2024 e...   \n",
       "\n",
       "                                               Content     Category  \n",
       "372   The US government is planning to change auto ...         Tech  \n",
       "449   As Juul’s popularity began to surge in 2016, ...        Style  \n",
       "441   Madder, cochineal, Mauveine; these words may ...        Style  \n",
       "45    Renewed hostilities between the Myanmar milit...        World  \n",
       "190   Women have made huge strides in business, asc...     Business  \n",
       "427   In the not too distant past, the silhouette t...        Style  \n",
       "789   Hurricane Lee has strengthened into a major C...      Weather  \n",
       "101   It happened, therefore it was a success. Pres...  US Politics  \n",
       "78    The ideas can be simple: converting a vehicle...        World  \n",
       "107   Five of the Republican presidential candidate...  US Politics  "
      ]
     },
     "execution_count": 62,
     "metadata": {},
     "output_type": "execute_result"
    }
   ],
   "source": [
    "data.sample(10)"
   ]
  },
  {
   "cell_type": "code",
   "execution_count": 63,
   "id": "13662c2e",
   "metadata": {},
   "outputs": [
    {
     "data": {
      "text/html": [
       "<div>\n",
       "<style scoped>\n",
       "    .dataframe tbody tr th:only-of-type {\n",
       "        vertical-align: middle;\n",
       "    }\n",
       "\n",
       "    .dataframe tbody tr th {\n",
       "        vertical-align: top;\n",
       "    }\n",
       "\n",
       "    .dataframe thead th {\n",
       "        text-align: right;\n",
       "    }\n",
       "</style>\n",
       "<table border=\"1\" class=\"dataframe\">\n",
       "  <thead>\n",
       "    <tr style=\"text-align: right;\">\n",
       "      <th></th>\n",
       "      <th>Content</th>\n",
       "      <th>Category</th>\n",
       "    </tr>\n",
       "  </thead>\n",
       "  <tbody>\n",
       "    <tr>\n",
       "      <th>0</th>\n",
       "      <td>Israel and Hamas have reached a deal for a fo...</td>\n",
       "      <td>World</td>\n",
       "    </tr>\n",
       "    <tr>\n",
       "      <th>2</th>\n",
       "      <td>Dutch voters cast their ballots on Wednesday ...</td>\n",
       "      <td>World</td>\n",
       "    </tr>\n",
       "    <tr>\n",
       "      <th>3</th>\n",
       "      <td>A highly venomous snake is on the loose after...</td>\n",
       "      <td>World</td>\n",
       "    </tr>\n",
       "    <tr>\n",
       "      <th>4</th>\n",
       "      <td>Nearly seven weeks into the war, Israel and H...</td>\n",
       "      <td>World</td>\n",
       "    </tr>\n",
       "    <tr>\n",
       "      <th>5</th>\n",
       "      <td>Israel and Hamas reached an agreement early W...</td>\n",
       "      <td>World</td>\n",
       "    </tr>\n",
       "    <tr>\n",
       "      <th>...</th>\n",
       "      <td>...</td>\n",
       "      <td>...</td>\n",
       "    </tr>\n",
       "    <tr>\n",
       "      <th>861</th>\n",
       "      <td>Life-threatening flash flooding forced evacua...</td>\n",
       "      <td>Weather</td>\n",
       "    </tr>\n",
       "    <tr>\n",
       "      <th>863</th>\n",
       "      <td>One of the most exceptional heat streaks in U...</td>\n",
       "      <td>Weather</td>\n",
       "    </tr>\n",
       "    <tr>\n",
       "      <th>865</th>\n",
       "      <td>Substantial fires can make their own weather ...</td>\n",
       "      <td>Weather</td>\n",
       "    </tr>\n",
       "    <tr>\n",
       "      <th>867</th>\n",
       "      <td>An out-of-control blaze burning in northern W...</td>\n",
       "      <td>Weather</td>\n",
       "    </tr>\n",
       "    <tr>\n",
       "      <th>869</th>\n",
       "      <td>People across the United States are facing sc...</td>\n",
       "      <td>Weather</td>\n",
       "    </tr>\n",
       "  </tbody>\n",
       "</table>\n",
       "<p>510 rows × 2 columns</p>\n",
       "</div>"
      ],
      "text/plain": [
       "                                               Content Category\n",
       "0     Israel and Hamas have reached a deal for a fo...    World\n",
       "2     Dutch voters cast their ballots on Wednesday ...    World\n",
       "3     A highly venomous snake is on the loose after...    World\n",
       "4     Nearly seven weeks into the war, Israel and H...    World\n",
       "5     Israel and Hamas reached an agreement early W...    World\n",
       "..                                                 ...      ...\n",
       "861   Life-threatening flash flooding forced evacua...  Weather\n",
       "863   One of the most exceptional heat streaks in U...  Weather\n",
       "865   Substantial fires can make their own weather ...  Weather\n",
       "867   An out-of-control blaze burning in northern W...  Weather\n",
       "869   People across the United States are facing sc...  Weather\n",
       "\n",
       "[510 rows x 2 columns]"
      ]
     },
     "execution_count": 63,
     "metadata": {},
     "output_type": "execute_result"
    }
   ],
   "source": [
    "dataset = data.iloc[:, 1:]\n",
    "dataset"
   ]
  },
  {
   "cell_type": "code",
   "execution_count": 64,
   "id": "0d56f39c",
   "metadata": {},
   "outputs": [],
   "source": [
    "# Split the data into training and testing sets\n",
    "train_data, test_data = train_test_split(dataset, test_size=0.2, random_state=42)"
   ]
  },
  {
   "cell_type": "code",
   "execution_count": 65,
   "id": "462a7c01",
   "metadata": {},
   "outputs": [
    {
     "data": {
      "text/plain": [
       "((408, 2), (102, 2))"
      ]
     },
     "execution_count": 65,
     "metadata": {},
     "output_type": "execute_result"
    }
   ],
   "source": [
    "train_data.shape, test_data.shape"
   ]
  },
  {
   "cell_type": "code",
   "execution_count": 66,
   "id": "b06c9e22",
   "metadata": {},
   "outputs": [],
   "source": [
    "# Text vectorization using Bag-of-Words\n",
    "vectorizer = CountVectorizer()\n",
    "X_train = vectorizer.fit_transform(train_data['Content'])\n",
    "X_test = vectorizer.transform(test_data['Content'])\n"
   ]
  },
  {
   "cell_type": "code",
   "execution_count": 67,
   "id": "844f13b6",
   "metadata": {},
   "outputs": [],
   "source": [
    "# Training multiple classifiers\n",
    "# classifiers = {\n",
    "#     'Naive Bayes': MultinomialNB(),\n",
    "# #     'Logistic Regression': LogisticRegression(max_iter=1000),\n",
    "# #     'Random Forest': RandomForestClassifier(),\n",
    "# #     \"SVM\": LinearSVC(max_iter=1000)\n",
    "# }"
   ]
  },
  {
   "cell_type": "code",
   "execution_count": 68,
   "id": "efe76bc9",
   "metadata": {},
   "outputs": [],
   "source": [
    "# results = {}\n",
    "\n",
    "# for clf_name, classifier in classifiers.items():\n",
    "#     # Training the classifier\n",
    "#     classifier.fit(X_train, train_data['Category'])\n",
    "\n",
    "#     # Make predictions on the test set\n",
    "#     predictions = classifier.predict(X_test)\n",
    "\n",
    "#     # Evaluate the model\n",
    "#     accuracy = accuracy_score(test_data['Category'], predictions)\n",
    "#     classification_rep = classification_report(test_data['Category'], predictions, zero_division=1)\n",
    "\n",
    "#     # Save the results\n",
    "#     results[clf_name] = {\n",
    "#         'Accuracy': accuracy,\n",
    "#         'Classification Report': classification_rep\n",
    "#     }"
   ]
  },
  {
   "cell_type": "code",
   "execution_count": 69,
   "id": "68fff4d4",
   "metadata": {},
   "outputs": [
    {
     "name": "stdout",
     "output_type": "stream",
     "text": [
      "\n",
      "Results for Naive Bayes:\n",
      "Accuracy: 0.64\n",
      "Classification Report:\n",
      "               precision    recall  f1-score   support\n",
      "\n",
      "     Business       0.27      0.43      0.33         7\n",
      "Entertainment       1.00      0.17      0.29         6\n",
      "       Health       1.00      0.67      0.80         6\n",
      "      Markets       1.00      0.00      0.00         2\n",
      "       Sports       0.75      1.00      0.86         6\n",
      "        Style       0.50      0.38      0.43         8\n",
      "         Tech       1.00      0.00      0.00         5\n",
      "       Travel       0.38      0.50      0.43        10\n",
      "  US Politics       1.00      0.67      0.80        15\n",
      "      Weather       0.86      1.00      0.93        25\n",
      "        World       0.40      0.67      0.50        12\n",
      "\n",
      "     accuracy                           0.64       102\n",
      "    macro avg       0.74      0.50      0.49       102\n",
      " weighted avg       0.73      0.64      0.62       102\n",
      "\n"
     ]
    }
   ],
   "source": [
    "# # Display the results\n",
    "# for clf_name, metrics in results.items():\n",
    "#     print(f'\\nResults for {clf_name}:')\n",
    "#     print(f'Accuracy: {metrics[\"Accuracy\"]:.2f}')\n",
    "#     print('Classification Report:')\n",
    "#     print(metrics['Classification Report'])"
   ]
  },
  {
   "cell_type": "code",
   "execution_count": 71,
   "id": "aedf4839",
   "metadata": {},
   "outputs": [
    {
     "data": {
      "text/html": [
       "<style>#sk-container-id-2 {color: black;background-color: white;}#sk-container-id-2 pre{padding: 0;}#sk-container-id-2 div.sk-toggleable {background-color: white;}#sk-container-id-2 label.sk-toggleable__label {cursor: pointer;display: block;width: 100%;margin-bottom: 0;padding: 0.3em;box-sizing: border-box;text-align: center;}#sk-container-id-2 label.sk-toggleable__label-arrow:before {content: \"▸\";float: left;margin-right: 0.25em;color: #696969;}#sk-container-id-2 label.sk-toggleable__label-arrow:hover:before {color: black;}#sk-container-id-2 div.sk-estimator:hover label.sk-toggleable__label-arrow:before {color: black;}#sk-container-id-2 div.sk-toggleable__content {max-height: 0;max-width: 0;overflow: hidden;text-align: left;background-color: #f0f8ff;}#sk-container-id-2 div.sk-toggleable__content pre {margin: 0.2em;color: black;border-radius: 0.25em;background-color: #f0f8ff;}#sk-container-id-2 input.sk-toggleable__control:checked~div.sk-toggleable__content {max-height: 200px;max-width: 100%;overflow: auto;}#sk-container-id-2 input.sk-toggleable__control:checked~label.sk-toggleable__label-arrow:before {content: \"▾\";}#sk-container-id-2 div.sk-estimator input.sk-toggleable__control:checked~label.sk-toggleable__label {background-color: #d4ebff;}#sk-container-id-2 div.sk-label input.sk-toggleable__control:checked~label.sk-toggleable__label {background-color: #d4ebff;}#sk-container-id-2 input.sk-hidden--visually {border: 0;clip: rect(1px 1px 1px 1px);clip: rect(1px, 1px, 1px, 1px);height: 1px;margin: -1px;overflow: hidden;padding: 0;position: absolute;width: 1px;}#sk-container-id-2 div.sk-estimator {font-family: monospace;background-color: #f0f8ff;border: 1px dotted black;border-radius: 0.25em;box-sizing: border-box;margin-bottom: 0.5em;}#sk-container-id-2 div.sk-estimator:hover {background-color: #d4ebff;}#sk-container-id-2 div.sk-parallel-item::after {content: \"\";width: 100%;border-bottom: 1px solid gray;flex-grow: 1;}#sk-container-id-2 div.sk-label:hover label.sk-toggleable__label {background-color: #d4ebff;}#sk-container-id-2 div.sk-serial::before {content: \"\";position: absolute;border-left: 1px solid gray;box-sizing: border-box;top: 0;bottom: 0;left: 50%;z-index: 0;}#sk-container-id-2 div.sk-serial {display: flex;flex-direction: column;align-items: center;background-color: white;padding-right: 0.2em;padding-left: 0.2em;position: relative;}#sk-container-id-2 div.sk-item {position: relative;z-index: 1;}#sk-container-id-2 div.sk-parallel {display: flex;align-items: stretch;justify-content: center;background-color: white;position: relative;}#sk-container-id-2 div.sk-item::before, #sk-container-id-2 div.sk-parallel-item::before {content: \"\";position: absolute;border-left: 1px solid gray;box-sizing: border-box;top: 0;bottom: 0;left: 50%;z-index: -1;}#sk-container-id-2 div.sk-parallel-item {display: flex;flex-direction: column;z-index: 1;position: relative;background-color: white;}#sk-container-id-2 div.sk-parallel-item:first-child::after {align-self: flex-end;width: 50%;}#sk-container-id-2 div.sk-parallel-item:last-child::after {align-self: flex-start;width: 50%;}#sk-container-id-2 div.sk-parallel-item:only-child::after {width: 0;}#sk-container-id-2 div.sk-dashed-wrapped {border: 1px dashed gray;margin: 0 0.4em 0.5em 0.4em;box-sizing: border-box;padding-bottom: 0.4em;background-color: white;}#sk-container-id-2 div.sk-label label {font-family: monospace;font-weight: bold;display: inline-block;line-height: 1.2em;}#sk-container-id-2 div.sk-label-container {text-align: center;}#sk-container-id-2 div.sk-container {/* jupyter's `normalize.less` sets `[hidden] { display: none; }` but bootstrap.min.css set `[hidden] { display: none !important; }` so we also need the `!important` here to be able to override the default hidden behavior on the sphinx rendered scikit-learn.org. See: https://github.com/scikit-learn/scikit-learn/issues/21755 */display: inline-block !important;position: relative;}#sk-container-id-2 div.sk-text-repr-fallback {display: none;}</style><div id=\"sk-container-id-2\" class=\"sk-top-container\"><div class=\"sk-text-repr-fallback\"><pre>MultinomialNB()</pre><b>In a Jupyter environment, please rerun this cell to show the HTML representation or trust the notebook. <br />On GitHub, the HTML representation is unable to render, please try loading this page with nbviewer.org.</b></div><div class=\"sk-container\" hidden><div class=\"sk-item\"><div class=\"sk-estimator sk-toggleable\"><input class=\"sk-toggleable__control sk-hidden--visually\" id=\"sk-estimator-id-2\" type=\"checkbox\" checked><label for=\"sk-estimator-id-2\" class=\"sk-toggleable__label sk-toggleable__label-arrow\">MultinomialNB</label><div class=\"sk-toggleable__content\"><pre>MultinomialNB()</pre></div></div></div></div></div>"
      ],
      "text/plain": [
       "MultinomialNB()"
      ]
     },
     "execution_count": 71,
     "metadata": {},
     "output_type": "execute_result"
    }
   ],
   "source": [
    "# Train a Naive Bayes classifier\n",
    "nb_classifier = MultinomialNB()\n",
    "nb_classifier.fit(X_train, train_data[\"Category\"])\n"
   ]
  },
  {
   "cell_type": "code",
   "execution_count": 74,
   "id": "026d21af",
   "metadata": {},
   "outputs": [
    {
     "name": "stderr",
     "output_type": "stream",
     "text": [
      "C:\\Users\\ashay\\anaconda3\\lib\\site-packages\\sklearn\\metrics\\_classification.py:1344: UndefinedMetricWarning: Precision and F-score are ill-defined and being set to 0.0 in labels with no predicted samples. Use `zero_division` parameter to control this behavior.\n",
      "  _warn_prf(average, modifier, msg_start, len(result))\n",
      "C:\\Users\\ashay\\anaconda3\\lib\\site-packages\\sklearn\\metrics\\_classification.py:1344: UndefinedMetricWarning: Precision and F-score are ill-defined and being set to 0.0 in labels with no predicted samples. Use `zero_division` parameter to control this behavior.\n",
      "  _warn_prf(average, modifier, msg_start, len(result))\n",
      "C:\\Users\\ashay\\anaconda3\\lib\\site-packages\\sklearn\\metrics\\_classification.py:1344: UndefinedMetricWarning: Precision and F-score are ill-defined and being set to 0.0 in labels with no predicted samples. Use `zero_division` parameter to control this behavior.\n",
      "  _warn_prf(average, modifier, msg_start, len(result))\n"
     ]
    }
   ],
   "source": [
    "\n",
    "# Make predictions on the test set\n",
    "predictions = nb_classifier.predict(X_test)\n",
    "\n",
    "# Evaluate the model\n",
    "accuracy = accuracy_score(test_data['Category'], predictions)\n",
    "precision = precision_score(test_data['Category'], predictions, average='micro') \n",
    "recall = recall_score(test_data['Category'], predictions, average='micro')\n",
    "f1 = f1_score(test_data['Category'], predictions, average='micro') \n",
    "\n",
    "classification_rep = classification_report(test_data['Category'], predictions)"
   ]
  },
  {
   "cell_type": "code",
   "execution_count": 75,
   "id": "a2edd145",
   "metadata": {
    "scrolled": true
   },
   "outputs": [
    {
     "name": "stdout",
     "output_type": "stream",
     "text": [
      "Accuracy: 0.64\n",
      "Precision: 0.64\n",
      "Recall: 0.64\n",
      "F1 Score: 0.64\n",
      "Classification Report:\n",
      "               precision    recall  f1-score   support\n",
      "\n",
      "     Business       0.27      0.43      0.33         7\n",
      "Entertainment       1.00      0.17      0.29         6\n",
      "       Health       1.00      0.67      0.80         6\n",
      "      Markets       0.00      0.00      0.00         2\n",
      "       Sports       0.75      1.00      0.86         6\n",
      "        Style       0.50      0.38      0.43         8\n",
      "         Tech       0.00      0.00      0.00         5\n",
      "       Travel       0.38      0.50      0.43        10\n",
      "  US Politics       1.00      0.67      0.80        15\n",
      "      Weather       0.86      1.00      0.93        25\n",
      "        World       0.40      0.67      0.50        12\n",
      "\n",
      "     accuracy                           0.64       102\n",
      "    macro avg       0.56      0.50      0.49       102\n",
      " weighted avg       0.66      0.64      0.62       102\n",
      "\n"
     ]
    }
   ],
   "source": [
    "# Display the results\n",
    "print(f'Accuracy: {accuracy:.2f}')\n",
    "print(f'Precision: {precision:.2f}')\n",
    "print(f'Recall: {recall:.2f}')\n",
    "print(f'F1 Score: {f1:.2f}')\n",
    "print('Classification Report:')\n",
    "print(classification_rep)"
   ]
  },
  {
   "cell_type": "code",
   "execution_count": 78,
   "id": "e3586f8b",
   "metadata": {},
   "outputs": [
    {
     "data": {
      "text/html": [
       "<div>\n",
       "<style scoped>\n",
       "    .dataframe tbody tr th:only-of-type {\n",
       "        vertical-align: middle;\n",
       "    }\n",
       "\n",
       "    .dataframe tbody tr th {\n",
       "        vertical-align: top;\n",
       "    }\n",
       "\n",
       "    .dataframe thead th {\n",
       "        text-align: right;\n",
       "    }\n",
       "</style>\n",
       "<table border=\"1\" class=\"dataframe\">\n",
       "  <thead>\n",
       "    <tr style=\"text-align: right;\">\n",
       "      <th></th>\n",
       "      <th>Metric</th>\n",
       "      <th>Value</th>\n",
       "    </tr>\n",
       "  </thead>\n",
       "  <tbody>\n",
       "    <tr>\n",
       "      <th>0</th>\n",
       "      <td>Accuracy</td>\n",
       "      <td>0.637255</td>\n",
       "    </tr>\n",
       "    <tr>\n",
       "      <th>1</th>\n",
       "      <td>Precision</td>\n",
       "      <td>0.637255</td>\n",
       "    </tr>\n",
       "    <tr>\n",
       "      <th>2</th>\n",
       "      <td>Recall</td>\n",
       "      <td>0.637255</td>\n",
       "    </tr>\n",
       "    <tr>\n",
       "      <th>3</th>\n",
       "      <td>F1 Score</td>\n",
       "      <td>0.637255</td>\n",
       "    </tr>\n",
       "  </tbody>\n",
       "</table>\n",
       "</div>"
      ],
      "text/plain": [
       "      Metric     Value\n",
       "0   Accuracy  0.637255\n",
       "1  Precision  0.637255\n",
       "2     Recall  0.637255\n",
       "3   F1 Score  0.637255"
      ]
     },
     "execution_count": 78,
     "metadata": {},
     "output_type": "execute_result"
    }
   ],
   "source": [
    "# Save evaluation results to a CSV file\n",
    "evaluation_results = pd.DataFrame({\n",
    "    'Metric': ['Accuracy', 'Precision', 'Recall', 'F1 Score'],\n",
    "    'Value': [accuracy, precision, recall, f1]\n",
    "})\n",
    "\n",
    "evaluation_results.to_csv('evaluation_results.csv', index=False)\n",
    "evaluation_results"
   ]
  }
 ],
 "metadata": {
  "kernelspec": {
   "display_name": "Python 3 (ipykernel)",
   "language": "python",
   "name": "python3"
  },
  "language_info": {
   "codemirror_mode": {
    "name": "ipython",
    "version": 3
   },
   "file_extension": ".py",
   "mimetype": "text/x-python",
   "name": "python",
   "nbconvert_exporter": "python",
   "pygments_lexer": "ipython3",
   "version": "3.10.9"
  }
 },
 "nbformat": 4,
 "nbformat_minor": 5
}
